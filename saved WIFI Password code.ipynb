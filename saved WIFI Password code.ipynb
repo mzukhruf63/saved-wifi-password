{
 "cells": [
  {
   "cell_type": "code",
   "execution_count": 3,
   "id": "2cca4247",
   "metadata": {},
   "outputs": [
    {
     "name": "stdout",
     "output_type": "stream",
     "text": [
      "WiFi: staroldcity10 | Password: 786000786\n",
      "WiFi: realme C63 | Password: 44332211\n",
      "WiFi: SMIT-Students | Password: student@1234\n",
      "WiFi: Owais Aslam | Password: 03009270024\n",
      "WiFi: Soomro | Password: <Access Denied or Not Available>\n",
      "WiFi: Unkown-5G | Password: Khizar012\n",
      "WiFi: Unknown-2G2 | Password: Khizar012\n",
      "WiFi: Unknown-5G | Password: Khizar012\n",
      "WiFi: V2026 | Password: 11223355\n",
      "WiFi: UNKOWN-5G | Password: Khizar012\n",
      "WiFi: UNKOWN-2G | Password: Khizar012\n",
      "WiFi: Redmi 12C | Password: 11223344\n",
      "WiFi: Arshad 2.4G | Password: <Access Denied or Not Available>\n"
     ]
    }
   ],
   "source": [
    "\n",
    "\n",
    "import subprocess\n",
    "\n",
    "def get_saved_wifi_passwords():\n",
    "    networks = subprocess.check_output(['netsh', 'wlan', 'show', 'profiles'], encoding='utf-8')\n",
    "    profiles = [line.split(\":\")[1].strip() for line in networks.split('\\n') if \"All User Profile\" in line]\n",
    "\n",
    "    for profile in profiles:\n",
    "        try:\n",
    "            result = subprocess.check_output(['netsh', 'wlan', 'show', 'profile', profile, 'key=clear'], encoding='utf-8')\n",
    "            for line in result.split('\\n'):\n",
    "                if \"Key Content\" in line:\n",
    "                    password = line.split(\":\")[1].strip()\n",
    "                    print(f\"WiFi: {profile} | Password: {password}\")\n",
    "                    break\n",
    "        except subprocess.CalledProcessError:\n",
    "            print(f\"WiFi: {profile} | Password: <Access Denied or Not Available>\")\n",
    "\n",
    "get_saved_wifi_passwords()\n"
   ]
  }
 ],
 "metadata": {
  "kernelspec": {
   "display_name": "Python 3",
   "language": "python",
   "name": "python3"
  },
  "language_info": {
   "codemirror_mode": {
    "name": "ipython",
    "version": 3
   },
   "file_extension": ".py",
   "mimetype": "text/x-python",
   "name": "python",
   "nbconvert_exporter": "python",
   "pygments_lexer": "ipython3",
   "version": "3.13.2"
  }
 },
 "nbformat": 4,
 "nbformat_minor": 5
}
